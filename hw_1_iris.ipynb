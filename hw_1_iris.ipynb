{
 "cells": [
  {
   "cell_type": "markdown",
   "id": "2b502cdd",
   "metadata": {
    "papermill": {
     "duration": 0.004922,
     "end_time": "2025-03-02T10:20:32.494543",
     "exception": false,
     "start_time": "2025-03-02T10:20:32.489621",
     "status": "completed"
    },
    "tags": []
   },
   "source": [
    "## Autors Gunārs Ābeltiņš, ga22008"
   ]
  },
  {
   "cell_type": "markdown",
   "id": "41073ccd",
   "metadata": {
    "papermill": {
     "duration": 0.00387,
     "end_time": "2025-03-02T10:20:32.502962",
     "exception": false,
     "start_time": "2025-03-02T10:20:32.499092",
     "status": "completed"
    },
    "tags": []
   },
   "source": [
    "### Pamats Jupyter Notebook veidošanai.\n",
    "\n",
    "1) Koda izpildi kontrolē viens mainīgais - slēdzis  \n",
    "2) Atkarībā no slēdža stāvokļa, tiek izpildīts tikai modeļa apmācībai vai tikai modeļa pārbaudei nepieciešamais kods  \n",
    "3) Tiek ielādēti tikai tie moduļi un dati, kas nepieciešami konkrētās darbības izpildei  \n",
    "4) Ja, pārbaudot kodu, nepieciešams darīt vairāk nekā nomainīt slēdzi un norādīt testa datu kopas ielādes URL, darbs nav korekti pabeigts, notestēts, utt  \n",
    "5) Pabeigta darba kodam jāstrādā bez aizķeršanās, palaižot to ar Run All  \n",
    "6) Pēc iespējas visu darbu darīt ar klasēm un funkcijām"
   ]
  },
  {
   "cell_type": "markdown",
   "id": "91837019",
   "metadata": {
    "papermill": {
     "duration": 0.003804,
     "end_time": "2025-03-02T10:20:32.511003",
     "exception": false,
     "start_time": "2025-03-02T10:20:32.507199",
     "status": "completed"
    },
    "tags": []
   },
   "source": [
    "### Kontroles bloks\n",
    "Definē slēdzi un satur saites uz datiem un trenēto modeli"
   ]
  },
  {
   "cell_type": "code",
   "execution_count": 1,
   "id": "43f27b9a",
   "metadata": {
    "execution": {
     "iopub.execute_input": "2025-03-02T10:20:32.520606Z",
     "iopub.status.busy": "2025-03-02T10:20:32.520238Z",
     "iopub.status.idle": "2025-03-02T10:20:32.526666Z",
     "shell.execute_reply": "2025-03-02T10:20:32.525342Z"
    },
    "papermill": {
     "duration": 0.013361,
     "end_time": "2025-03-02T10:20:32.528462",
     "exception": false,
     "start_time": "2025-03-02T10:20:32.515101",
     "status": "completed"
    },
    "tags": []
   },
   "outputs": [],
   "source": [
    "# True - ielādē treniņa datu kopu un uz tās apmāca jaunu modeli, kuru saglabā\n",
    "# False - ielādē jau apmācītu modeli un atsevišķu datu kopu, uz kuras modeli pārbaudīt\n",
    "TRAIN = False\n",
    "\n",
    "# Norādam apmācīta modeļa ielādes URL. Nomainīt.\n",
    "MODEL_URL = \"https://dl.dropbox.com/scl/fi/r6iy31winl7u79bacak93/iris_model-1.pth?rlkey=ca646luvn4mne1cbvp2osdqpa&st=dx1to0em&dl=1\"\n",
    "# Minamāla modeļa URL.\n",
    "MINIMAL_MODEL_URL = \"https://dl.dropbox.com/scl/fi/szsngp0m39erbwmby5e05/minimal_iris_model.pth?rlkey=92nkmamp275e9aub4nqxz2z1x&st=ywosd2ha&dl=1\"\n",
    "# Norādam treniņa datu kopas ielādes URL. Nomainīt.\n",
    "TRAIN_DATA_URL = 'https://dl.dropbox.com/scl/fi/jcb4bv8g1g2s69a93hmae/Iris_train.csv?rlkey=shqgajvrhpxsw04ptb4nuvgle&dl=1' # <saite uz treniņa datu kopu gdrive, dropbox vai citā serverī>\n",
    "# Norādam testa datu kopas ielādes URL. Testējot kodu, pagaidām ir validācijas datu kopa, taču pārbaudot darbu pasniedzējs nomainīs uz nodalītu vērtēšanas kopu\n",
    "TEST_DATA_URL = 'https://dl.dropbox.com/scl/fi/xmsnbuxafq70joj56bcc6/Iris_validate.csv?rlkey=idzjb2shqpypkv23aayajqjsh&dl=1' # <saite uz testa datu kopu gdrive, dropbox vai citā serverī>\n",
    "# Dropbox gadījumā - padoms tiešās saites iegūšanai https://www.dropboxforum.com/discussions/101001014/public-links-to-raw-files/110391 "
   ]
  },
  {
   "cell_type": "markdown",
   "id": "0b944d64",
   "metadata": {
    "papermill": {
     "duration": 0.003937,
     "end_time": "2025-03-02T10:20:32.536875",
     "exception": false,
     "start_time": "2025-03-02T10:20:32.532938",
     "status": "completed"
    },
    "tags": []
   },
   "source": [
    "### Moduļu importēšana\n",
    "Importē nepieciešamos moduļus."
   ]
  },
  {
   "cell_type": "code",
   "execution_count": 2,
   "id": "6cbc2993",
   "metadata": {
    "execution": {
     "iopub.execute_input": "2025-03-02T10:20:32.546745Z",
     "iopub.status.busy": "2025-03-02T10:20:32.546392Z",
     "iopub.status.idle": "2025-03-02T10:20:38.079550Z",
     "shell.execute_reply": "2025-03-02T10:20:38.078397Z"
    },
    "papermill": {
     "duration": 5.540594,
     "end_time": "2025-03-02T10:20:38.081652",
     "exception": false,
     "start_time": "2025-03-02T10:20:32.541058",
     "status": "completed"
    },
    "tags": []
   },
   "outputs": [],
   "source": [
    "# os modulis nepieciešams darbam ar failiem\n",
    "import os\n",
    "# torch modulis nodrošina MI apmācībai un lietošanai nepieciešamās funkcijas\n",
    "import torch\n",
    "from torch import nn\n",
    "# numpy modulis nodrošina dažādas matemātiskās funkcijas\n",
    "import numpy as np\n",
    "# Pandas modulis tabulveida datu apstrādei\n",
    "import pandas as pd\n",
    "# utt.\n",
    "import torch.utils.data as data\n",
    "import torch.nn.functional as F\n",
    "\n",
    "import matplotlib.pyplot as plt\n",
    "\n",
    "import requests\n",
    "import io\n",
    "\n",
    "device = torch.device(\"cuda\") if torch.cuda.is_available() else torch.device(\"cpu\")\n",
    "\n",
    "# GPU operācijām ir atsevišķs random seed, kas atšķiras no 'standarta' random seed uz CPU vei\n",
    "if torch.cuda.is_available():\n",
    "    torch.cuda.manual_seed(42)\n",
    "    torch.cuda.manual_seed_all(42)\n",
    "\n",
    "# Daļa GPU operāciju var būt ar nedeterminētu secību, kas ļauj apstrādi veikt mazliet ātrāk\n",
    "# Ar šiem uzstādījumiem to noņem, lai ir reproducējami tie paši rezultāti\n",
    "torch.backends.cudnn.deterministic = True\n",
    "torch.backends.cudnn.benchmark = False"
   ]
  },
  {
   "cell_type": "markdown",
   "id": "c08dfa7b",
   "metadata": {
    "papermill": {
     "duration": 0.004401,
     "end_time": "2025-03-02T10:20:38.090676",
     "exception": false,
     "start_time": "2025-03-02T10:20:38.086275",
     "status": "completed"
    },
    "tags": []
   },
   "source": [
    "### Klašu un funkciju definēšana\n",
    "Ieteicams visu definēt koda sākumā.  \n",
    "Komentējiet pašas funkcijas mērķi un galvenās darbības tās iekšienē.  \n",
    "Ja nepieciešams, definējiet papildus klases un funkcijas.\n"
   ]
  },
  {
   "cell_type": "code",
   "execution_count": 3,
   "id": "3cdee08f",
   "metadata": {
    "execution": {
     "iopub.execute_input": "2025-03-02T10:20:38.101209Z",
     "iopub.status.busy": "2025-03-02T10:20:38.100622Z",
     "iopub.status.idle": "2025-03-02T10:20:38.129779Z",
     "shell.execute_reply": "2025-03-02T10:20:38.128670Z"
    },
    "papermill": {
     "duration": 0.036475,
     "end_time": "2025-03-02T10:20:38.131491",
     "exception": false,
     "start_time": "2025-03-02T10:20:38.095016",
     "status": "completed"
    },
    "scrolled": true,
    "tags": []
   },
   "outputs": [],
   "source": [
    "# Definē klasi DataSet, kas saturēs datus neironu tīklam saprotamā formātā\n",
    "\n",
    "class IrisDataset(data.Dataset):\n",
    "    def __init__(self, df):\n",
    "        # Convert feature columns to float\n",
    "        self.features = torch.tensor(df.iloc[:, 0:4].astype(float).values, dtype=torch.float32)\n",
    "        \n",
    "        # Fixed class mapping regardless of data distribution\n",
    "        self.class_map = {\n",
    "            'Iris-setosa': 0,\n",
    "            'Iris-versicolor': 1, \n",
    "            'Iris-virginica': 2\n",
    "        }\n",
    "        \n",
    "        # Map labels using the fixed class map\n",
    "        self.labels = torch.tensor([self.class_map[label] for label in df.iloc[:, 4].values], dtype=torch.long)\n",
    "        \n",
    "    def __len__(self):\n",
    "        return len(self.features)\n",
    "        \n",
    "    def __getitem__(self, idx):\n",
    "        return self.features[idx], self.labels[idx]\n",
    "\n",
    "# Definē klasi Model - pašu neironu tīklu\n",
    "\n",
    "class IrisModel(nn.Module):\n",
    "  # Ieejas slānis(4 ziedu parametri)\n",
    "  # Paslēpti slānis h1 un h2 (kuru vērtība ir neironu skaits)\n",
    "  # Izvadē būs 3 iespējamie Īrisu ziedu veidi\n",
    "\n",
    "  def __init__(self, in_features=4, h1=10, h2=11, out_features=3):\n",
    "    super().__init__()\n",
    "    self.fc1 = nn.Linear(in_features, h1)\n",
    "    self.fc2 = nn.Linear(h1,h2)\n",
    "    self.out = nn.Linear(h2,out_features)\n",
    "\n",
    "#Izmantojam relu aktivācijas funkciju\n",
    "  def forward(self, x):\n",
    "    x = F.relu(self.fc1(x))\n",
    "    x = F.relu(self.fc2(x))\n",
    "    x = self.out(x)\n",
    "\n",
    "    return x\n",
    "\n",
    "class MinimalLinearIrisModel(nn.Module):\n",
    "    def __init__(self, in_features=4, out_features=3):\n",
    "        super().__init__()\n",
    "        self.linear = nn.Linear(in_features,out_features)\n",
    "\n",
    "    def forward(self, x):\n",
    "        return self.linear(x)\n",
    "\n",
    "def trainModel(Model, Dataset, epochs, learning_rate, save_path, train_split=0.8):\n",
    "    # Create full dataset\n",
    "    full_dataset = Dataset(iris_dataframe)\n",
    "    \n",
    "    # Calculate split sizes\n",
    "    dataset_size = len(full_dataset)\n",
    "    train_size = int(train_split * dataset_size)\n",
    "    val_size = dataset_size - train_size\n",
    "    \n",
    "    # Split dataset\n",
    "    train_dataset, val_dataset = torch.utils.data.random_split(\n",
    "        full_dataset, [train_size, val_size]\n",
    "    )\n",
    "    \n",
    "    # Create data loaders\n",
    "    train_loader = torch.utils.data.DataLoader(train_dataset, batch_size=20, shuffle=True)\n",
    "    val_loader = torch.utils.data.DataLoader(val_dataset, batch_size=val_size, shuffle=False)\n",
    "    \n",
    "    # Initialize model\n",
    "    model = Model()\n",
    "    optimizer = torch.optim.Adam(model.parameters(), lr=learning_rate)\n",
    "    loss_function = nn.CrossEntropyLoss()\n",
    "    \n",
    "    # Track metrics\n",
    "    train_losses = []\n",
    "    val_losses = []\n",
    "    train_accuracies = []\n",
    "    val_accuracies = []\n",
    "    \n",
    "    best_val_accuracy = 0\n",
    "    \n",
    "    for epoch in range(epochs):\n",
    "        # Training phase\n",
    "        model.train()\n",
    "        train_epoch_loss = 0\n",
    "        train_correct = 0\n",
    "        train_total = 0\n",
    "        \n",
    "        for data_inputs, data_labels in train_loader:\n",
    "            # Forward pass\n",
    "            outputs = model(data_inputs)\n",
    "            loss = loss_function(outputs, data_labels)\n",
    "            \n",
    "            # Backward pass and optimization\n",
    "            optimizer.zero_grad()\n",
    "            loss.backward()\n",
    "            optimizer.step()\n",
    "            \n",
    "            # Track metrics\n",
    "            train_epoch_loss += loss.item()\n",
    "            \n",
    "            # Calculate accuracy\n",
    "            _, predicted = torch.max(outputs.data, 1)\n",
    "            train_total += data_labels.size(0)\n",
    "            train_correct += (predicted == data_labels).sum().item()\n",
    "        \n",
    "        # Calculate average training metrics\n",
    "        avg_train_loss = train_epoch_loss / len(train_loader)\n",
    "        train_accuracy = 100 * train_correct / train_total\n",
    "        train_losses.append(avg_train_loss)\n",
    "        train_accuracies.append(train_accuracy)\n",
    "        \n",
    "        # Validation phase\n",
    "        model.eval()\n",
    "        val_epoch_loss = 0\n",
    "        val_correct = 0\n",
    "        val_total = 0\n",
    "        \n",
    "        with torch.no_grad():\n",
    "            for data_inputs, data_labels in val_loader:\n",
    "                # Forward pass\n",
    "                outputs = model(data_inputs)\n",
    "                loss = loss_function(outputs, data_labels)\n",
    "                \n",
    "                # Track metrics\n",
    "                val_epoch_loss += loss.item()\n",
    "                \n",
    "                # Calculate accuracy\n",
    "                _, predicted = torch.max(outputs.data, 1)\n",
    "                val_total += data_labels.size(0)\n",
    "                val_correct += (predicted == data_labels).sum().item()\n",
    "        \n",
    "        # Calculate average validation metrics\n",
    "        avg_val_loss = val_epoch_loss / len(val_loader)\n",
    "        val_accuracy = 100 * val_correct / val_total\n",
    "        val_losses.append(avg_val_loss)\n",
    "        val_accuracies.append(val_accuracy)\n",
    "        \n",
    "        # Save best model\n",
    "        if val_accuracy > best_val_accuracy:\n",
    "            best_val_accuracy = val_accuracy\n",
    "            torch.save(model.state_dict(), save_path)\n",
    "            \n",
    "        # Print progress\n",
    "        if (epoch + 1) % 10 == 0:\n",
    "            print(f\"Epoch: {epoch+1}/{epochs}\")\n",
    "            print(f\"  Train Loss: {avg_train_loss:.4f}, Train Acc: {train_accuracy:.2f}%\")\n",
    "            print(f\"  Val Loss: {avg_val_loss:.4f}, Val Acc: {val_accuracy:.2f}%\")\n",
    "    \n",
    "    # Plot loss and accuracy curves\n",
    "    epochs_range = range(1, epochs + 1)\n",
    "    \n",
    "    # Create figure with two subplots\n",
    "    fig, (ax1, ax2) = plt.subplots(1, 2, figsize=(15, 5))\n",
    "    \n",
    "    # Plot losses\n",
    "    ax1.plot(epochs_range, train_losses, label='Training Loss', marker='o', linestyle='-', markersize=3)\n",
    "    ax1.plot(epochs_range, val_losses, label='Validation Loss', marker='s', linestyle='-', markersize=3)\n",
    "    ax1.set_xlabel('Epochs')\n",
    "    ax1.set_ylabel('Loss')\n",
    "    ax1.set_title('Training and Validation Loss')\n",
    "    ax1.legend()\n",
    "    ax1.grid(True, linestyle='--', alpha=0.7)\n",
    "    \n",
    "    # Plot accuracies\n",
    "    ax2.plot(epochs_range, train_accuracies, label='Training Accuracy', marker='o', linestyle='-', markersize=3)\n",
    "    ax2.plot(epochs_range, val_accuracies, label='Validation Accuracy', marker='s', linestyle='-', markersize=3)\n",
    "    ax2.set_xlabel('Epochs')\n",
    "    ax2.set_ylabel('Accuracy (%)')\n",
    "    ax2.set_title('Training and Validation Accuracy')\n",
    "    ax2.legend()\n",
    "    ax2.grid(True, linestyle='--', alpha=0.7)\n",
    "    \n",
    "    plt.tight_layout()\n",
    "    plt.show()\n",
    "    \n",
    "    print(f\"Best validation accuracy: {best_val_accuracy:.2f}%\")\n",
    "    print(f\"Model saved to {save_path}\")\n",
    "\n",
    "# Definē funkciju train, kuru izsaucot, modelis tiek trenēts ar treniņdatu kopu\n",
    "def train():\n",
    "    print(\"Training model...\")\n",
    "\n",
    "    trainModel(IrisModel, IrisDataset, 200, 0.01, \"iris_model.pth\")\n",
    "\n",
    "    print(\"Training minimal model...\")\n",
    "\n",
    "    trainModel(MinimalLinearIrisModel, IrisDataset, 200, 0.01, \"minimal_iris_model.pth\")\n",
    "\n",
    "    print(\"Training complete.\")\n",
    "\n",
    "def testModel(ModelClass, model_path):\n",
    "    print(f\"Testing {ModelClass.__name__} model...\")\n",
    "\n",
    "    # Load test dataset\n",
    "    df_test = pd.read_csv(TEST_DATA_URL)\n",
    "    test_dataset = IrisDataset(df_test)\n",
    "    test_loader = torch.utils.data.DataLoader(test_dataset, batch_size=1, shuffle=False)\n",
    "\n",
    "    \n",
    "    class_map = test_dataset.class_map\n",
    "\n",
    "    # Create reverse class map\n",
    "    reverse_class_map = {v: k for k, v in class_map.items()}\n",
    "\n",
    "    # Load trained model\n",
    "    model = ModelClass()\n",
    "    model.load_state_dict(torch.load(model_path, weights_only=True))\n",
    "    model.eval()  # Set model to evaluation mode\n",
    "\n",
    "    correct = 0\n",
    "    total = len(test_dataset)\n",
    "\n",
    "    with torch.no_grad():\n",
    "        for idx, (inputs, true_label) in enumerate(test_loader):\n",
    "            outputs = model(inputs)\n",
    "            predicted_idx = torch.argmax(outputs, dim=1).item()\n",
    "            \n",
    "            # Get class names using reverse mapping\n",
    "            predicted_class = reverse_class_map[predicted_idx]\n",
    "            true_class = reverse_class_map[true_label.item()]\n",
    "\n",
    "            correct_prediction = predicted_class == true_class\n",
    "            correctness_text = \"pareizi\" if correct_prediction else \"nepareizi\"\n",
    "            print(f\"{idx + 1}. datu rindiņā klasifikatora rezultāts: {predicted_class}; reālā suga: {true_class}, {correctness_text}\")\n",
    "\n",
    "            if correct_prediction:\n",
    "                correct += 1\n",
    "\n",
    "    accuracy = (correct / total) * 100\n",
    "    print(f\"Precizitāte: {accuracy:.0f}% ({correct}/{total})\")\n",
    "    \n",
    "    return accuracy\n",
    "    \n",
    "\n",
    "# Definē funkciju test, kuru izsaucot, modelis tiek pārbaudīts ar validācijas vai testa datu kopu\n",
    "def test():\n",
    "    if TRAIN == False:\n",
    "        # Download model weights from URLs if in testing mode\n",
    "        # For the normal model\n",
    "        download_weights_from_url(MODEL_URL, \"iris_model.pth\")\n",
    "        # For the minimal model\n",
    "        download_weights_from_url(MINIMAL_MODEL_URL, \"minimal_iris_model.pth\")\n",
    "        \n",
    "    print(\"Testing normal model...\")\n",
    "    testModel(IrisModel, \"iris_model.pth\")\n",
    "    print(\"Testing minimal model...\")\n",
    "    testModel(MinimalLinearIrisModel, \"minimal_iris_model.pth\")\n",
    "\n",
    "def download_weights_from_url(url, save_path):\n",
    "    print(f\"Downloading model weights from {url}...\")\n",
    "    try:\n",
    "        response = requests.get(url)\n",
    "        response.raise_for_status()  # Raise exception for HTTP errors\n",
    "        \n",
    "        # Save the downloaded content to a file\n",
    "        with open(save_path, 'wb') as f:\n",
    "            f.write(response.content)\n",
    "        print(f\"Successfully downloaded weights to {save_path}\")\n",
    "        \n",
    "    except Exception as e:\n",
    "        print(f\"Error downloading weights: {e}\")\n",
    "        return False\n",
    "    \n",
    "    return True\n",
    "    \n",
    "\n",
    "# Definē funkciju saveWeights, kuru izsaucot, tiek saglabāti modeļa svari\n",
    "def saveWeights():\n",
    "    print(\"Saving weights...\")\n",
    "    pass\n",
    "    # --- Jūsu kods šeit ---\n",
    "\n",
    "# Definē funkciju loadWeights, kuru izsaucot, no URL MODEL_URL tiek ielādēti modeļa svari un piešķirti mūsu modelim\n",
    "def loadWeights():\n",
    "    print(f\"Loading weights from {MODEL_URL}...\")\n",
    "    pass\n",
    "    # --- Jūsu kods šeit ---"
   ]
  },
  {
   "cell_type": "markdown",
   "id": "531d7bf4",
   "metadata": {
    "papermill": {
     "duration": 0.003988,
     "end_time": "2025-03-02T10:20:38.139978",
     "exception": false,
     "start_time": "2025-03-02T10:20:38.135990",
     "status": "completed"
    },
    "tags": []
   },
   "source": [
    "### Datu ielādes bloks\n",
    "Šajā koda blokā ielādē nepieciešamo datu kopa un sagatavo darbam ar modeli"
   ]
  },
  {
   "cell_type": "code",
   "execution_count": 4,
   "id": "c88975cb",
   "metadata": {
    "execution": {
     "iopub.execute_input": "2025-03-02T10:20:38.149833Z",
     "iopub.status.busy": "2025-03-02T10:20:38.149396Z",
     "iopub.status.idle": "2025-03-02T10:20:38.646140Z",
     "shell.execute_reply": "2025-03-02T10:20:38.645081Z"
    },
    "papermill": {
     "duration": 0.504212,
     "end_time": "2025-03-02T10:20:38.648344",
     "exception": false,
     "start_time": "2025-03-02T10:20:38.144132",
     "status": "completed"
    },
    "tags": []
   },
   "outputs": [
    {
     "name": "stdout",
     "output_type": "stream",
     "text": [
      "Ielādē testa datu kopu\n"
     ]
    },
    {
     "data": {
      "text/html": [
       "<div>\n",
       "<style scoped>\n",
       "    .dataframe tbody tr th:only-of-type {\n",
       "        vertical-align: middle;\n",
       "    }\n",
       "\n",
       "    .dataframe tbody tr th {\n",
       "        vertical-align: top;\n",
       "    }\n",
       "\n",
       "    .dataframe thead th {\n",
       "        text-align: right;\n",
       "    }\n",
       "</style>\n",
       "<table border=\"1\" class=\"dataframe\">\n",
       "  <thead>\n",
       "    <tr style=\"text-align: right;\">\n",
       "      <th></th>\n",
       "      <th>SepalLengthCm</th>\n",
       "      <th>SepalWidthCm</th>\n",
       "      <th>PetalLengthCm</th>\n",
       "      <th>PetalWidthCm</th>\n",
       "      <th>Species</th>\n",
       "    </tr>\n",
       "  </thead>\n",
       "  <tbody>\n",
       "    <tr>\n",
       "      <th>0</th>\n",
       "      <td>4.4</td>\n",
       "      <td>3.2</td>\n",
       "      <td>1.3</td>\n",
       "      <td>0.2</td>\n",
       "      <td>Iris-setosa</td>\n",
       "    </tr>\n",
       "    <tr>\n",
       "      <th>1</th>\n",
       "      <td>5.0</td>\n",
       "      <td>3.5</td>\n",
       "      <td>1.6</td>\n",
       "      <td>0.6</td>\n",
       "      <td>Iris-setosa</td>\n",
       "    </tr>\n",
       "    <tr>\n",
       "      <th>2</th>\n",
       "      <td>5.1</td>\n",
       "      <td>3.8</td>\n",
       "      <td>1.9</td>\n",
       "      <td>0.4</td>\n",
       "      <td>Iris-setosa</td>\n",
       "    </tr>\n",
       "    <tr>\n",
       "      <th>3</th>\n",
       "      <td>4.8</td>\n",
       "      <td>3.0</td>\n",
       "      <td>1.4</td>\n",
       "      <td>0.3</td>\n",
       "      <td>Iris-setosa</td>\n",
       "    </tr>\n",
       "    <tr>\n",
       "      <th>4</th>\n",
       "      <td>5.8</td>\n",
       "      <td>2.6</td>\n",
       "      <td>4.0</td>\n",
       "      <td>1.2</td>\n",
       "      <td>Iris-versicolor</td>\n",
       "    </tr>\n",
       "    <tr>\n",
       "      <th>5</th>\n",
       "      <td>5.0</td>\n",
       "      <td>2.3</td>\n",
       "      <td>3.3</td>\n",
       "      <td>1.0</td>\n",
       "      <td>Iris-versicolor</td>\n",
       "    </tr>\n",
       "    <tr>\n",
       "      <th>6</th>\n",
       "      <td>5.6</td>\n",
       "      <td>2.7</td>\n",
       "      <td>4.2</td>\n",
       "      <td>1.3</td>\n",
       "      <td>Iris-versicolor</td>\n",
       "    </tr>\n",
       "    <tr>\n",
       "      <th>7</th>\n",
       "      <td>5.7</td>\n",
       "      <td>3.0</td>\n",
       "      <td>4.2</td>\n",
       "      <td>1.2</td>\n",
       "      <td>Iris-versicolor</td>\n",
       "    </tr>\n",
       "    <tr>\n",
       "      <th>8</th>\n",
       "      <td>5.8</td>\n",
       "      <td>2.7</td>\n",
       "      <td>5.1</td>\n",
       "      <td>1.9</td>\n",
       "      <td>Iris-virginica</td>\n",
       "    </tr>\n",
       "    <tr>\n",
       "      <th>9</th>\n",
       "      <td>6.8</td>\n",
       "      <td>3.2</td>\n",
       "      <td>5.9</td>\n",
       "      <td>2.3</td>\n",
       "      <td>Iris-virginica</td>\n",
       "    </tr>\n",
       "    <tr>\n",
       "      <th>10</th>\n",
       "      <td>6.7</td>\n",
       "      <td>3.3</td>\n",
       "      <td>5.7</td>\n",
       "      <td>2.5</td>\n",
       "      <td>Iris-virginica</td>\n",
       "    </tr>\n",
       "    <tr>\n",
       "      <th>11</th>\n",
       "      <td>6.7</td>\n",
       "      <td>3.0</td>\n",
       "      <td>5.2</td>\n",
       "      <td>2.3</td>\n",
       "      <td>Iris-virginica</td>\n",
       "    </tr>\n",
       "  </tbody>\n",
       "</table>\n",
       "</div>"
      ],
      "text/plain": [
       "    SepalLengthCm  SepalWidthCm  PetalLengthCm  PetalWidthCm          Species\n",
       "0             4.4           3.2            1.3           0.2      Iris-setosa\n",
       "1             5.0           3.5            1.6           0.6      Iris-setosa\n",
       "2             5.1           3.8            1.9           0.4      Iris-setosa\n",
       "3             4.8           3.0            1.4           0.3      Iris-setosa\n",
       "4             5.8           2.6            4.0           1.2  Iris-versicolor\n",
       "5             5.0           2.3            3.3           1.0  Iris-versicolor\n",
       "6             5.6           2.7            4.2           1.3  Iris-versicolor\n",
       "7             5.7           3.0            4.2           1.2  Iris-versicolor\n",
       "8             5.8           2.7            5.1           1.9   Iris-virginica\n",
       "9             6.8           3.2            5.9           2.3   Iris-virginica\n",
       "10            6.7           3.3            5.7           2.5   Iris-virginica\n",
       "11            6.7           3.0            5.2           2.3   Iris-virginica"
      ]
     },
     "execution_count": 4,
     "metadata": {},
     "output_type": "execute_result"
    }
   ],
   "source": [
    "if TRAIN == True:\n",
    "    print(\"Ielādē treniņa datu kopu\")\n",
    "    # NB! Kaggle Settings jābūt 'Turn On Internet', savādāk no tīkla neko nevarēs ielādēt, būs kļūda 'Temporary failure in name resolution' \n",
    "    iris_dataframe = pd.read_csv(TRAIN_DATA_URL)\n",
    "    \n",
    "else:\n",
    "    print(\"Ielādē testa datu kopu\")\n",
    "    iris_dataframe = pd.read_csv(TEST_DATA_URL)\n",
    "\n",
    "iris_dataframe"
   ]
  },
  {
   "cell_type": "markdown",
   "id": "f804299e",
   "metadata": {
    "papermill": {
     "duration": 0.004591,
     "end_time": "2025-03-02T10:20:38.658030",
     "exception": false,
     "start_time": "2025-03-02T10:20:38.653439",
     "status": "completed"
    },
    "tags": []
   },
   "source": [
    "### Modeļa apmācīšanas bloks\n",
    "Šis bloks tiek palaists tikai tad, ja TRAIN == True.  \n",
    "Satur tikai funkciju train."
   ]
  },
  {
   "cell_type": "code",
   "execution_count": 5,
   "id": "7c98fb3b",
   "metadata": {
    "execution": {
     "iopub.execute_input": "2025-03-02T10:20:38.668378Z",
     "iopub.status.busy": "2025-03-02T10:20:38.668019Z",
     "iopub.status.idle": "2025-03-02T10:20:38.672965Z",
     "shell.execute_reply": "2025-03-02T10:20:38.671692Z"
    },
    "papermill": {
     "duration": 0.012466,
     "end_time": "2025-03-02T10:20:38.675040",
     "exception": false,
     "start_time": "2025-03-02T10:20:38.662574",
     "status": "completed"
    },
    "scrolled": true,
    "tags": []
   },
   "outputs": [],
   "source": [
    "if TRAIN == True:\n",
    "    train()"
   ]
  },
  {
   "cell_type": "markdown",
   "id": "45f6bf5a",
   "metadata": {
    "papermill": {
     "duration": 0.004243,
     "end_time": "2025-03-02T10:20:38.684337",
     "exception": false,
     "start_time": "2025-03-02T10:20:38.680094",
     "status": "completed"
    },
    "tags": []
   },
   "source": [
    "### Modeļa saglabāšanas bloks\n",
    "Šis bloks tiek palaists tikai tad, ja TRAIN == True.  \n",
    "Satur tikai funkciju saveWeights."
   ]
  },
  {
   "cell_type": "code",
   "execution_count": 6,
   "id": "f0fae719",
   "metadata": {
    "execution": {
     "iopub.execute_input": "2025-03-02T10:20:38.694789Z",
     "iopub.status.busy": "2025-03-02T10:20:38.694423Z",
     "iopub.status.idle": "2025-03-02T10:20:38.698498Z",
     "shell.execute_reply": "2025-03-02T10:20:38.697554Z"
    },
    "papermill": {
     "duration": 0.011429,
     "end_time": "2025-03-02T10:20:38.700303",
     "exception": false,
     "start_time": "2025-03-02T10:20:38.688874",
     "status": "completed"
    },
    "tags": []
   },
   "outputs": [],
   "source": [
    "if TRAIN == True:\n",
    "    saveWeights()"
   ]
  },
  {
   "cell_type": "markdown",
   "id": "99c111a8",
   "metadata": {
    "papermill": {
     "duration": 0.004348,
     "end_time": "2025-03-02T10:20:38.709482",
     "exception": false,
     "start_time": "2025-03-02T10:20:38.705134",
     "status": "completed"
    },
    "tags": []
   },
   "source": [
    "### Modeļa ielādēšanas bloks\n",
    "Šis bloks tiek palaists tikai tad, ja TRAIN == False.  \n",
    "Satur tikai funkciju loadWeights."
   ]
  },
  {
   "cell_type": "code",
   "execution_count": 7,
   "id": "6499cad4",
   "metadata": {
    "execution": {
     "iopub.execute_input": "2025-03-02T10:20:38.719605Z",
     "iopub.status.busy": "2025-03-02T10:20:38.719183Z",
     "iopub.status.idle": "2025-03-02T10:20:38.724596Z",
     "shell.execute_reply": "2025-03-02T10:20:38.723211Z"
    },
    "papermill": {
     "duration": 0.012435,
     "end_time": "2025-03-02T10:20:38.726342",
     "exception": false,
     "start_time": "2025-03-02T10:20:38.713907",
     "status": "completed"
    },
    "tags": []
   },
   "outputs": [
    {
     "name": "stdout",
     "output_type": "stream",
     "text": [
      "Loading weights from https://dl.dropbox.com/scl/fi/r6iy31winl7u79bacak93/iris_model-1.pth?rlkey=ca646luvn4mne1cbvp2osdqpa&st=dx1to0em&dl=1...\n"
     ]
    }
   ],
   "source": [
    "if TRAIN == False:\n",
    "    loadWeights()"
   ]
  },
  {
   "cell_type": "markdown",
   "id": "4735da5b",
   "metadata": {
    "papermill": {
     "duration": 0.006034,
     "end_time": "2025-03-02T10:20:38.737144",
     "exception": false,
     "start_time": "2025-03-02T10:20:38.731110",
     "status": "completed"
    },
    "tags": []
   },
   "source": [
    "### Modeļa pārbaudes kods\n",
    "Šis bloks tiek palaists jebkurā gadījumā. Visiem iepriekšējiem blokiem jānostrādā pareizi atkarībā no TRAIN stāvokļa, lai šis kods paņemtu no jauna uztrenētu modeli un pārbaudīto to uz validācijas datu kopas, vai ielādētu saglabātu modeli un pārbaudītu to uz testa datu kopas.\n",
    "\n",
    "Testa palaišanai jāizdrukā:\n",
    "1. visu pārbaužu rezultāti viegli saprotamā formā (12 rindiņas, pa vienai katram validācijas kopas piemēram)\n",
    "2. kopējais precizitātes novērtējums.\n",
    "   \n",
    "Paraugs iespējamam adekvātam noformējumam:\n",
    "\n",
    "- 1\\. datu rindiņā klasifikatora rezultāts: Iris-setosa; reālā suga: Iris-setosa, pareizi\n",
    "- 2\\. datu rindiņā klasifikatora rezultāts: Iris-versicolor; reālā suga: Iris-setosa, nepareizi\n",
    "- ...\n",
    "- 12\\. datu rindiņā klasifikatora rezultāts: Iris-virginica; reālā suga: Iris-virginica, pareizi\n",
    "    Precizitāte: 58% (7/12)\n"
   ]
  },
  {
   "cell_type": "code",
   "execution_count": 8,
   "id": "6407630d",
   "metadata": {
    "execution": {
     "iopub.execute_input": "2025-03-02T10:20:38.748167Z",
     "iopub.status.busy": "2025-03-02T10:20:38.747780Z",
     "iopub.status.idle": "2025-03-02T10:20:40.799912Z",
     "shell.execute_reply": "2025-03-02T10:20:40.798403Z"
    },
    "papermill": {
     "duration": 2.059991,
     "end_time": "2025-03-02T10:20:40.802079",
     "exception": false,
     "start_time": "2025-03-02T10:20:38.742088",
     "status": "completed"
    },
    "scrolled": true,
    "tags": []
   },
   "outputs": [
    {
     "name": "stdout",
     "output_type": "stream",
     "text": [
      "Downloading model weights from https://dl.dropbox.com/scl/fi/r6iy31winl7u79bacak93/iris_model-1.pth?rlkey=ca646luvn4mne1cbvp2osdqpa&st=dx1to0em&dl=1...\n",
      "Successfully downloaded weights to iris_model.pth\n",
      "Downloading model weights from https://dl.dropbox.com/scl/fi/szsngp0m39erbwmby5e05/minimal_iris_model.pth?rlkey=92nkmamp275e9aub4nqxz2z1x&st=ywosd2ha&dl=1...\n",
      "Successfully downloaded weights to minimal_iris_model.pth\n",
      "Testing normal model...\n",
      "Testing IrisModel model...\n",
      "1. datu rindiņā klasifikatora rezultāts: Iris-setosa; reālā suga: Iris-setosa, pareizi\n",
      "2. datu rindiņā klasifikatora rezultāts: Iris-setosa; reālā suga: Iris-setosa, pareizi\n",
      "3. datu rindiņā klasifikatora rezultāts: Iris-setosa; reālā suga: Iris-setosa, pareizi\n",
      "4. datu rindiņā klasifikatora rezultāts: Iris-setosa; reālā suga: Iris-setosa, pareizi\n",
      "5. datu rindiņā klasifikatora rezultāts: Iris-versicolor; reālā suga: Iris-versicolor, pareizi\n",
      "6. datu rindiņā klasifikatora rezultāts: Iris-versicolor; reālā suga: Iris-versicolor, pareizi\n",
      "7. datu rindiņā klasifikatora rezultāts: Iris-versicolor; reālā suga: Iris-versicolor, pareizi\n",
      "8. datu rindiņā klasifikatora rezultāts: Iris-versicolor; reālā suga: Iris-versicolor, pareizi\n",
      "9. datu rindiņā klasifikatora rezultāts: Iris-virginica; reālā suga: Iris-virginica, pareizi\n",
      "10. datu rindiņā klasifikatora rezultāts: Iris-virginica; reālā suga: Iris-virginica, pareizi\n",
      "11. datu rindiņā klasifikatora rezultāts: Iris-virginica; reālā suga: Iris-virginica, pareizi\n",
      "12. datu rindiņā klasifikatora rezultāts: Iris-virginica; reālā suga: Iris-virginica, pareizi\n",
      "Precizitāte: 100% (12/12)\n",
      "Testing minimal model...\n",
      "Testing MinimalLinearIrisModel model...\n",
      "1. datu rindiņā klasifikatora rezultāts: Iris-setosa; reālā suga: Iris-setosa, pareizi\n",
      "2. datu rindiņā klasifikatora rezultāts: Iris-setosa; reālā suga: Iris-setosa, pareizi\n",
      "3. datu rindiņā klasifikatora rezultāts: Iris-setosa; reālā suga: Iris-setosa, pareizi\n",
      "4. datu rindiņā klasifikatora rezultāts: Iris-setosa; reālā suga: Iris-setosa, pareizi\n",
      "5. datu rindiņā klasifikatora rezultāts: Iris-versicolor; reālā suga: Iris-versicolor, pareizi\n",
      "6. datu rindiņā klasifikatora rezultāts: Iris-versicolor; reālā suga: Iris-versicolor, pareizi\n",
      "7. datu rindiņā klasifikatora rezultāts: Iris-versicolor; reālā suga: Iris-versicolor, pareizi\n",
      "8. datu rindiņā klasifikatora rezultāts: Iris-versicolor; reālā suga: Iris-versicolor, pareizi\n",
      "9. datu rindiņā klasifikatora rezultāts: Iris-virginica; reālā suga: Iris-virginica, pareizi\n",
      "10. datu rindiņā klasifikatora rezultāts: Iris-virginica; reālā suga: Iris-virginica, pareizi\n",
      "11. datu rindiņā klasifikatora rezultāts: Iris-virginica; reālā suga: Iris-virginica, pareizi\n",
      "12. datu rindiņā klasifikatora rezultāts: Iris-virginica; reālā suga: Iris-virginica, pareizi\n",
      "Precizitāte: 100% (12/12)\n"
     ]
    }
   ],
   "source": [
    "test()"
   ]
  }
 ],
 "metadata": {
  "kaggle": {
   "accelerator": "none",
   "dataSources": [
    {
     "datasetId": 6680699,
     "sourceId": 10769309,
     "sourceType": "datasetVersion"
    }
   ],
   "dockerImageVersionId": 30886,
   "isGpuEnabled": false,
   "isInternetEnabled": true,
   "language": "python",
   "sourceType": "notebook"
  },
  "kernelspec": {
   "display_name": "Python 3",
   "language": "python",
   "name": "python3"
  },
  "language_info": {
   "codemirror_mode": {
    "name": "ipython",
    "version": 3
   },
   "file_extension": ".py",
   "mimetype": "text/x-python",
   "name": "python",
   "nbconvert_exporter": "python",
   "pygments_lexer": "ipython3",
   "version": "3.10.12"
  },
  "papermill": {
   "default_parameters": {},
   "duration": 13.737615,
   "end_time": "2025-03-02T10:20:43.236876",
   "environment_variables": {},
   "exception": null,
   "input_path": "__notebook__.ipynb",
   "output_path": "__notebook__.ipynb",
   "parameters": {},
   "start_time": "2025-03-02T10:20:29.499261",
   "version": "2.6.0"
  }
 },
 "nbformat": 4,
 "nbformat_minor": 5
}
